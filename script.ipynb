{
 "cells": [
  {
   "cell_type": "markdown",
   "metadata": {},
   "source": [
    "# Hacktiv8 Non Graded Challenge 2\n",
    "\n",
    "---\n",
    "By [Rifky Aliffa](https://github.com/Penzragon)\n",
    "\n",
    "Instruction:\n",
    "\n",
    "- Buatlah sebuah function yang dapat mengkonversi suhu dari kelvin ke celcius, dan celcius ke kelvin.\n",
    "- Buatlah sebuah function yang dapat mengkonversi suhu ke fahrenheit. Tambahkan parameter untuk memastikan bahwa argumen yang dimasukan adalah celcius atau kelvin. Panggil function yang pertama jika diperlukan.\n",
    "- Buatlah sebuah funtion yang dapat mengkonversi suhu dari fahrenheit. Berikan argumen untuk memastikan bahwa outputnya dalah celcius atau kelvin.\n",
    "- Berikan dokumentasi pada setiap baris kode yang kalian tulis."
   ]
  },
  {
   "cell_type": "markdown",
   "metadata": {},
   "source": [
    "## Create a function to convert Celsius to Kelvin and vice versa"
   ]
  },
  {
   "cell_type": "code",
   "execution_count": 2,
   "metadata": {},
   "outputs": [],
   "source": [
    "def celsius_kelvin(number, target):\n",
    "    \"\"\"\n",
    "    Function to convert celsius to kelvin or vice versa.\n",
    "\n",
    "    Args:\n",
    "        number (int): Number to convert.\n",
    "        target (str): Target temperature (k) for kelvin (c) for celsius.\n",
    "\n",
    "    Return:\n",
    "        converted (int): Convertion result\n",
    "    \"\"\"\n",
    "\n",
    "    # Initiating converted variable\n",
    "    converted = None\n",
    "\n",
    "    # Change target string to lowercase to handle uppercase letter\n",
    "    target = target.lower()\n",
    "\n",
    "    if target == \"c\":  # Condition if target value is equal to 'c'\n",
    "        converted = number - 273.15\n",
    "    elif target == \"k\":  # Condition if target value is equal to 'k'\n",
    "        converted = number + 273.15\n",
    "    else:  # Condition if target value is not equal to either 'c' or 'k'\n",
    "        converted = \"Target value must be 'c' or 'k'\"\n",
    "\n",
    "    # Returning convertion result\n",
    "    return converted"
   ]
  },
  {
   "cell_type": "markdown",
   "metadata": {},
   "source": [
    "### Result"
   ]
  },
  {
   "cell_type": "code",
   "execution_count": 3,
   "metadata": {},
   "outputs": [
    {
     "name": "stdout",
     "output_type": "stream",
     "text": [
      "0 degrees celsius is equal to 273.15 degrees kelvin.\n",
      "0 degrees kelvin is equal to -273.15 degrees celsius.\n"
     ]
    }
   ],
   "source": [
    "num = 0\n",
    "print(f\"{num} degrees celsius is equal to {celsius_kelvin(num, 'K')} degrees kelvin.\")\n",
    "print(f\"{num} degrees kelvin is equal to {celsius_kelvin(num, 'c')} degrees celsius.\")"
   ]
  },
  {
   "cell_type": "markdown",
   "metadata": {},
   "source": [
    "## Create a function to convert Celsius or Kelvin to Fahrenheit"
   ]
  },
  {
   "cell_type": "code",
   "execution_count": 4,
   "metadata": {},
   "outputs": [],
   "source": [
    "def convert_to_fahrenheit(number, initial):\n",
    "    \"\"\"\n",
    "    Function to convert celsius or kelvin to fahrenheit.\n",
    "\n",
    "    Args:\n",
    "        number (int): Number to convert.\n",
    "        initial (str): Initial temperature (k) for kelvin (c) for celsius.\n",
    "\n",
    "    Return:\n",
    "        converted (int): Convertion result\n",
    "    \"\"\"\n",
    "\n",
    "    # Initiating converted variable\n",
    "    converted = None\n",
    "\n",
    "    # Change initial string to lowercase to handle uppercase letter\n",
    "    initial = initial.lower()\n",
    "\n",
    "    if initial == \"c\":  # Condition if initial value is equal to 'c'\n",
    "        converted = round((number * 9 / 5) + 32, 2)\n",
    "    elif initial == \"k\":  # Condition if initial value is equal to 'k'\n",
    "        converted = round(((number - 273.15) * 9 / 5) + 32, 2)\n",
    "    else:  # Condition if initial value is not equal to either 'c' or 'k'\n",
    "        converted = \"Initial value must be 'c' or 'k'\"\n",
    "\n",
    "    # Returning convertion result\n",
    "    return converted"
   ]
  },
  {
   "cell_type": "markdown",
   "metadata": {},
   "source": [
    "### Result"
   ]
  },
  {
   "cell_type": "code",
   "execution_count": 5,
   "metadata": {},
   "outputs": [
    {
     "name": "stdout",
     "output_type": "stream",
     "text": [
      "10 degrees kelvin is equal to -441.67 degrees fahrenheit.\n",
      "10 degrees celsius is equal to 50.0 degrees fahrenheit.\n"
     ]
    }
   ],
   "source": [
    "num = 10\n",
    "print(f\"{num} degrees kelvin is equal to {convert_to_fahrenheit(num, 'K')} degrees fahrenheit.\")\n",
    "print(f\"{num} degrees celsius is equal to {convert_to_fahrenheit(num, 'c')} degrees fahrenheit.\")"
   ]
  },
  {
   "cell_type": "markdown",
   "metadata": {},
   "source": [
    "## Create a function to convert Fahrenheit to Celsius or Kelvin"
   ]
  },
  {
   "cell_type": "code",
   "execution_count": 6,
   "metadata": {},
   "outputs": [],
   "source": [
    "def convert_fahrenheit_to(number, target):\n",
    "    \"\"\"\n",
    "    Function to convert fahrenheit to celsius or kelvin.\n",
    "\n",
    "    Args:\n",
    "        number (int): Number to convert.\n",
    "        target (str): Target temperature (k) for kelvin (c) for celsius.\n",
    "\n",
    "    Return:\n",
    "        converted (int): Convertion result\n",
    "    \"\"\"\n",
    "\n",
    "    # Initiating converted variable\n",
    "    converted = None\n",
    "\n",
    "    # Change target string to lowercase to handle uppercase letter\n",
    "    target = target.lower()\n",
    "\n",
    "    if target == \"c\":  # Condition if target value is equal to 'c'\n",
    "        converted = round((number - 32) * 5 / 9, 2)\n",
    "    elif target == \"k\":  # Condition if target value is equal to 'k'\n",
    "        converted = round(((number - 32) * 5 / 9) + 273.15, 2)\n",
    "    else:  # Condition if target value is not equal to either 'c' or 'k'\n",
    "        converted = \"Target value must be 'c' or 'k'\"\n",
    "\n",
    "    # Returning convertion result\n",
    "    return converted"
   ]
  },
  {
   "cell_type": "markdown",
   "metadata": {},
   "source": [
    "### Result"
   ]
  },
  {
   "cell_type": "code",
   "execution_count": 7,
   "metadata": {},
   "outputs": [
    {
     "name": "stdout",
     "output_type": "stream",
     "text": [
      "23 degrees fahrenheit is equal to 268.15 degrees kelvin.\n",
      "23 degrees fahrenheit is equal to -5.0 degrees celsius.\n"
     ]
    }
   ],
   "source": [
    "num = 23\n",
    "print(f\"{num} degrees fahrenheit is equal to {convert_fahrenheit_to(num, 'K')} degrees kelvin.\")\n",
    "print(f\"{num} degrees fahrenheit is equal to {convert_fahrenheit_to(num, 'c')} degrees celsius.\")"
   ]
  }
 ],
 "metadata": {
  "interpreter": {
   "hash": "112f40161e87cdf99d798de2b86adf76c0b833717b9d65fa1f256b9c887e27bf"
  },
  "kernelspec": {
   "display_name": "Python 3.9.1 64-bit",
   "language": "python",
   "name": "python3"
  },
  "language_info": {
   "codemirror_mode": {
    "name": "ipython",
    "version": 3
   },
   "file_extension": ".py",
   "mimetype": "text/x-python",
   "name": "python",
   "nbconvert_exporter": "python",
   "pygments_lexer": "ipython3",
   "version": "3.9.1"
  },
  "orig_nbformat": 4
 },
 "nbformat": 4,
 "nbformat_minor": 2
}
